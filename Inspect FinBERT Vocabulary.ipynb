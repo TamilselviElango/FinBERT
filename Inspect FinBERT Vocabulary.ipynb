{
 "cells": [
  {
   "cell_type": "code",
   "execution_count": 1,
   "metadata": {},
   "outputs": [],
   "source": [
    "from transformers import AutoTokenizer\n",
    "\n",
    "#Load pre-trained model tokenizer \n",
    "tokenizer = AutoTokenizer.from_pretrained(\"ipuneetrathore/bert-base-cased-finetuned-finBERT\")"
   ]
  },
  {
   "cell_type": "markdown",
   "metadata": {},
   "source": [
    "# Inspect BERT Vocabulary "
   ]
  },
  {
   "cell_type": "raw",
   "metadata": {},
   "source": [
    "Vocab dump"
   ]
  },
  {
   "cell_type": "code",
   "execution_count": 2,
   "metadata": {},
   "outputs": [],
   "source": [
    "with open(\"fin_bert_vocabulary.txt\",\"w\") as f:\n",
    "    for token in tokenizer.vocab.keys():\n",
    "        f.write(token+\"\\n\")"
   ]
  },
  {
   "cell_type": "markdown",
   "metadata": {},
   "source": [
    "Single characters"
   ]
  },
  {
   "cell_type": "code",
   "execution_count": 3,
   "metadata": {},
   "outputs": [],
   "source": [
    "one_chars =[]\n",
    "one_chars_hashes = []\n",
    "\n",
    "for token in tokenizer.vocab.keys():\n",
    "    if len(token) == 1:\n",
    "        one_chars.append(token)\n",
    "    \n",
    "    elif len(token) == 3 and token[0:2]==\"##\":\n",
    "        one_chars_hashes.append(token)"
   ]
  },
  {
   "cell_type": "code",
   "execution_count": 4,
   "metadata": {},
   "outputs": [
    {
     "name": "stdout",
     "output_type": "stream",
     "text": [
      "Number of single character token: 997 \n",
      "\n",
      "! \" # $ % & ' ( ) * + , - . / 0 1 2 3 4 5 6 7 8 9 : ; < = > ? @ A B C D E F G H\n",
      "I J K L M N O P Q R S T U V W X Y Z [ \\ ] ^ _ ` a b c d e f g h i j k l m n o p\n",
      "q r s t u v w x y z { | } ~ ¡ ¢ £ ¥ § ¨ © ª « ¬ ® ° ± ² ³ ´ µ ¶ · ¹ º » ¼ ½ ¾ ¿\n",
      "À Á Â Ä Å Æ Ç È É Í Î Ñ Ó Ö × Ø Ú Ü Þ ß à á â ã ä å æ ç è é ê ë ì í î ï ð ñ ò ó\n",
      "ô õ ö ÷ ø ù ú û ü ý þ ÿ Ā ā ă ą Ć ć Č č ď Đ đ ē ė ę ě ğ ġ Ħ ħ ĩ Ī ī İ ı ļ Ľ ľ Ł\n",
      "ł ń ņ ň ŋ Ō ō ŏ ő Œ œ ř Ś ś Ş ş Š š Ţ ţ ť ũ ū ŭ ů ű ų ŵ ŷ ź Ż ż Ž ž Ə ƒ ơ ư ǎ ǐ\n",
      "ǒ ǔ ǫ Ș ș Ț ț ɐ ɑ ɔ ɕ ə ɛ ɡ ɣ ɨ ɪ ɲ ɾ ʀ ʁ ʂ ʃ ʊ ʋ ʌ ʐ ʑ ʒ ʔ ʰ ʲ ʳ ʷ ʻ ʼ ʾ ʿ ˈ ː\n",
      "ˡ ˢ ˣ ́ ̃ ̍ ̯ ͡ Α Β Γ Δ Ε Η Θ Ι Κ Λ Μ Ν Ο Π Σ Τ Φ Χ Ψ Ω ά έ ή ί α β γ δ ε ζ η θ\n",
      "ι κ λ μ ν ξ ο π ρ ς σ τ υ φ χ ψ ω ό ύ ώ І Ј А Б В Г Д Е Ж З И К Л М Н О П Р С Т\n",
      "У Ф Х Ц Ч Ш Э Ю Я а б в г д е ж з и й к л м н о п р с т у ф х ц ч ш щ ъ ы ь э ю\n",
      "я ё і ї ј њ ћ Ա Հ ա ե ի կ մ յ ն ո ս տ ր ւ ְ ִ ֵ ֶ ַ ָ ֹ ּ א ב ג ד ה ו ז ח ט י כ\n",
      "ל ם מ ן נ ס ע פ צ ק ר ש ת ، ء آ أ إ ئ ا ب ة ت ث ج ح خ د ذ ر ز س ش ص ض ط ظ ع غ ف\n",
      "ق ك ل م ن ه و ى ي َ ِ ٹ پ چ ک گ ہ ی ے ं आ क ग च ज ण त द ध न प ब भ म य र ल व श ष\n",
      "स ह ा ि ी ु े ो ् । ॥ আ ই এ ও ক খ গ চ ছ জ ট ত থ দ ধ ন প ব ম য র ল শ স হ ় া ি ী\n",
      "ু ে ো ্ য় க த ப ம ய ர ல வ ா ி ு ் ร ་ ག ང ད ན བ མ ར ལ ས ི ུ ེ ོ ა ე ი ლ ნ ო რ ს\n",
      "ᴬ ᴵ ᵀ ᵃ ᵇ ᵈ ᵉ ᵍ ᵏ ᵐ ᵒ ᵖ ᵗ ᵘ ᵢ ᵣ ᵤ ᵥ ᶜ ᶠ ḍ Ḥ ḥ Ḩ ḩ ḳ ṃ ṅ ṇ ṛ ṣ ṭ ạ ả ấ ầ ẩ ậ ắ ế\n",
      "ề ể ễ ệ ị ọ ố ồ ổ ộ ớ ờ ợ ụ ủ ứ ừ ử ữ ự ỳ ỹ ἀ ἐ ὁ ὐ ὰ ὶ ὸ ῆ ῖ ῦ ῶ ‐ ‑ ‒ – — ― ‖\n",
      "‘ ’ ‚ “ ” „ † ‡ • … ‰ ′ ″ ⁄ ⁰ ⁱ ⁴ ⁵ ⁶ ⁷ ⁸ ⁹ ⁺ ⁻ ⁿ ₀ ₁ ₂ ₃ ₄ ₅ ₆ ₇ ₈ ₉ ₊ ₍ ₎ ₐ ₑ\n",
      "ₒ ₓ ₕ ₖ ₘ ₙ ₚ ₛ ₜ ₤ € ₱ ₹ ℓ № ℝ ⅓ ← ↑ → ↔ ⇌ ⇒ ∂ ∈ − ∗ ∘ √ ∞ ∧ ∨ ∩ ∪ ≈ ≠ ≡ ≤ ≥ ⊂\n",
      "⊆ ⊕ ⋅ ─ │ ■ ● ★ ☆ ☉ ♠ ♣ ♥ ♦ ♭ ♯ ⟨ ⟩ ⱼ 、 。 《 》 「 」 『 』 〜 い う え お か き く け こ さ し す\n",
      "せ そ た ち つ て と な に の は ひ ま み む め も や ゆ よ ら り る れ ん ア ィ イ ウ エ オ カ ガ キ ク グ コ サ シ ジ\n",
      "ス ズ タ ダ ッ テ デ ト ド ナ ニ ハ バ パ フ ブ プ マ ミ ム ャ ュ ラ リ ル レ ロ ン ・ ー 一 三 上 下 中 事 二 井 京 人\n",
      "亻 仁 佐 侍 光 公 力 北 十 南 原 口 史 司 吉 同 和 囗 国 國 土 城 士 大 天 太 夫 女 子 宀 安 宮 宿 小 尚 山 島 川 州 平\n",
      "年 心 愛 戸 文 新 方 日 明 星 書 月 木 本 李 村 東 松 林 正 武 氏 水 氵 江 河 海 版 犬 王 生 田 白 皇 省 真 石 社 神 竹\n",
      "美 義 花 藤 西 谷 車 辶 道 郎 郡 部 野 金 長 門 陽 青 食 馬 高 龍 龸 사 씨 의 이 한 ﬁ ﬂ ！ （ ） ， － ／ ：\n"
     ]
    }
   ],
   "source": [
    "print('Number of single character token:',len(one_chars),'\\n')\n",
    "for i in range(0, len(one_chars), 40):\n",
    "    end = min(i+40, len(one_chars)+1)\n",
    "    print(' '.join(one_chars[i:end]))"
   ]
  },
  {
   "cell_type": "code",
   "execution_count": 5,
   "metadata": {},
   "outputs": [
    {
     "name": "stdout",
     "output_type": "stream",
     "text": [
      "Number of single character token: 997 \n",
      "\n",
      "s a e n d i y o r t l m h u k g 1 2 3 4 6 7 0 5 9 z A 8 p C c S x b T v E B R f\n",
      "P M D L I w N F O G K V U é W H X j Y q J ō Q Z á í ć ° ó ₂ à ā ū š а ² ī ₃ ₁ ı\n",
      "ú ⁺ ë ₄ ý ½ я ă ه α ي å о й н ü и ä ن ø ς د ş č ₀ ń ö е ³ ر ò р ł ₙ ᵢ ì ß ù ة ν\n",
      "ș ê − م ♭ è ! \" # $ % & ' ( ) * + , - . / : ; < = > ? @ [ \\ ] ^ _ ` { | } ~ ¡ ¢\n",
      "£ ¥ § ¨ © ª « ¬ ® ± ´ µ ¶ · ¹ º » ¼ ¾ ¿ À Á Â Ä Å Æ Ç È É Í Î Ñ Ó Ö × Ø Ú Ü Þ â\n",
      "ã æ ç î ï ð ñ ô õ ÷ û þ ÿ Ā ą Ć Č ď Đ đ ē ė ę ě ğ ġ Ħ ħ ĩ Ī İ ļ Ľ ľ Ł ņ ň ŋ Ō ŏ\n",
      "ő Œ œ ř Ś ś Ş Š Ţ ţ ť ũ ŭ ů ű ų ŵ ŷ ź Ż ż Ž ž Ə ƒ ơ ư ǎ ǐ ǒ ǔ ǫ Ș Ț ț ɐ ɑ ɔ ɕ ə\n",
      "ɛ ɡ ɣ ɨ ɪ ɲ ɾ ʀ ʁ ʂ ʃ ʊ ʋ ʌ ʐ ʑ ʒ ʔ ʰ ʲ ʳ ʷ ʻ ʼ ʾ ʿ ˈ ː ˡ ˢ ˣ ́ ̃ ̍ ̯ ͡ Α Β Γ Δ\n",
      "Ε Η Θ Ι Κ Λ Μ Ν Ο Π Σ Τ Φ Χ Ψ Ω ά έ ή ί β γ δ ε ζ η θ ι κ λ μ ξ ο π ρ σ τ υ φ χ\n",
      "ψ ω ό ύ ώ І Ј А Б В Г Д Е Ж З И К Л М Н О П Р С Т У Ф Х Ц Ч Ш Э Ю Я б в г д ж з\n",
      "к л м п с т у ф х ц ч ш щ ъ ы ь э ю ё і ї ј њ ћ Ա Հ ա ե ի կ մ յ ն ո ս տ ր ւ ְ ִ\n",
      "ֵ ֶ ַ ָ ֹ ּ א ב ג ד ה ו ז ח ט י כ ל ם מ ן נ ס ע פ צ ק ר ש ת ، ء آ أ إ ئ ا ب ت ث\n",
      "ج ح خ ذ ز س ش ص ض ط ظ ع غ ف ق ك ل و ى َ ِ ٹ پ چ ک گ ہ ی ے ं आ क ग च ज ण त द ध न\n",
      "प ब भ म य र ल व श ष स ह ा ि ी ु े ो ् । ॥ আ ই এ ও ক খ গ চ ছ জ ট ত থ দ ধ ন প ব ম\n",
      "য র ল শ স হ ় া ি ী ু ে ো ্ য় க த ப ம ய ர ல வ ா ி ு ் ร ་ ག ང ད ན བ མ ར ལ ས ི ུ\n",
      "ེ ོ ა ე ი ლ ნ ო რ ს ᴬ ᴵ ᵀ ᵃ ᵇ ᵈ ᵉ ᵍ ᵏ ᵐ ᵒ ᵖ ᵗ ᵘ ᵣ ᵤ ᵥ ᶜ ᶠ ḍ Ḥ ḥ Ḩ ḩ ḳ ṃ ṅ ṇ ṛ ṣ\n",
      "ṭ ạ ả ấ ầ ẩ ậ ắ ế ề ể ễ ệ ị ọ ố ồ ổ ộ ớ ờ ợ ụ ủ ứ ừ ử ữ ự ỳ ỹ ἀ ἐ ὁ ὐ ὰ ὶ ὸ ῆ ῖ\n",
      "ῦ ῶ ‐ ‑ ‒ – — ― ‖ ‘ ’ ‚ “ ” „ † ‡ • … ‰ ′ ″ ⁄ ⁰ ⁱ ⁴ ⁵ ⁶ ⁷ ⁸ ⁹ ⁻ ⁿ ₅ ₆ ₇ ₈ ₉ ₊ ₍\n",
      "₎ ₐ ₑ ₒ ₓ ₕ ₖ ₘ ₚ ₛ ₜ ₤ € ₱ ₹ ℓ № ℝ ⅓ ← ↑ → ↔ ⇌ ⇒ ∂ ∈ ∗ ∘ √ ∞ ∧ ∨ ∩ ∪ ≈ ≠ ≡ ≤ ≥\n",
      "⊂ ⊆ ⊕ ⋅ ─ │ ■ ● ★ ☆ ☉ ♠ ♣ ♥ ♦ ♯ ⟨ ⟩ ⱼ 、 。 《 》 「 」 『 』 〜 い う え お か き く け こ さ し す\n",
      "せ そ た ち つ て と な に の は ひ ま み む め も や ゆ よ ら り る れ ん ア ィ イ ウ エ オ カ ガ キ ク グ コ サ シ ジ\n",
      "ス ズ タ ダ ッ テ デ ト ド ナ ニ ハ バ パ フ ブ プ マ ミ ム ャ ュ ラ リ ル レ ロ ン ・ ー 一 三 上 下 中 事 二 井 京 人\n",
      "亻 仁 佐 侍 光 公 力 北 十 南 原 口 史 司 吉 同 和 囗 国 國 土 城 士 大 天 太 夫 女 子 宀 安 宮 宿 小 尚 山 島 川 州 平\n",
      "年 心 愛 戸 文 新 方 日 明 星 書 月 木 本 李 村 東 松 林 正 武 氏 水 氵 江 河 海 版 犬 王 生 田 白 皇 省 真 石 社 神 竹\n",
      "美 義 花 藤 西 谷 車 辶 道 郎 郡 部 野 金 長 門 陽 青 食 馬 高 龍 龸 사 씨 의 이 한 ﬁ ﬂ ！ （ ） ， － ／ ：\n"
     ]
    }
   ],
   "source": [
    "print('Number of single character token:',len(one_chars_hashes),'\\n')\n",
    "tokens = [token.replace(\"##\",\"\") for token in one_chars_hashes]\n",
    "for i in range(0, len(tokens), 40):\n",
    "    end = min(i+40, len(tokens)+1)\n",
    "    print(' '.join(tokens[i:end]))"
   ]
  },
  {
   "cell_type": "code",
   "execution_count": 6,
   "metadata": {},
   "outputs": [
    {
     "name": "stdout",
     "output_type": "stream",
     "text": [
      "Are the two sets identical? True\n"
     ]
    }
   ],
   "source": [
    "print('Are the two sets identical?', set(one_chars)==set(tokens))"
   ]
  },
  {
   "cell_type": "markdown",
   "metadata": {},
   "source": [
    "Subwords vs Whole-words"
   ]
  },
  {
   "cell_type": "code",
   "execution_count": 7,
   "metadata": {},
   "outputs": [
    {
     "name": "stdout",
     "output_type": "stream",
     "text": [
      "Maximum token length: 18\n"
     ]
    },
    {
     "data": {
      "image/png": "[encoded data removed]",
      "text/plain": [
       "<Figure size 720x360 with 1 Axes>"
      ]
     },
     "metadata": {},
     "output_type": "display_data"
    }
   ],
   "source": [
    "import matplotlib.pyplot as plt\n",
    "import seaborn as sns\n",
    "import numpy as np\n",
    "\n",
    "sns.set(style='darkgrid')\n",
    "\n",
    "# Increase the plot size and font size.\n",
    "sns.set(font_scale=1.5)\n",
    "plt.rcParams[\"figure.figsize\"] = (10,5)\n",
    "\n",
    "# Measure the length of every token in the vocab.\n",
    "token_lengths = [len(token) for token in tokenizer.vocab.keys()]\n",
    "\n",
    "# Plot the number of tokens of each length.\n",
    "sns.countplot(token_lengths)\n",
    "plt.title('Vocab Token Lengths')\n",
    "plt.xlabel('Token Length')\n",
    "plt.ylabel('# of Tokens')\n",
    "\n",
    "print('Maximum token length:', max(token_lengths))"
   ]
  },
  {
   "cell_type": "code",
   "execution_count": 8,
   "metadata": {},
   "outputs": [],
   "source": [
    "num_subwords = 0\n",
    "\n",
    "subword_lengths = []\n",
    "\n",
    "# For each token in the vocabulary...\n",
    "for token in tokenizer.vocab.keys():\n",
    "    \n",
    "    # If it's a subword...\n",
    "    if len(token) >= 2 and token[0:2] == '##':\n",
    "        \n",
    "        # Tally all subwords\n",
    "        num_subwords += 1\n",
    "\n",
    "        # Measure the sub word length (without the hashes)\n",
    "        length = len(token) - 2\n",
    "\n",
    "        # Record the lengths.        \n",
    "        subword_lengths.append(length)"
   ]
  },
  {
   "cell_type": "code",
   "execution_count": 9,
   "metadata": {},
   "outputs": [
    {
     "name": "stdout",
     "output_type": "stream",
     "text": [
      "Number of subwords: 6,477 of 28,996\n",
      "22.3%\n"
     ]
    }
   ],
   "source": [
    "vocab_size = len(tokenizer.vocab.keys())\n",
    "\n",
    "print('Number of subwords: {:,} of {:,}'.format(num_subwords, vocab_size))\n",
    "\n",
    "# Calculate the percentage of words that are '##' subwords.\n",
    "prcnt = float(num_subwords) / vocab_size * 100.0\n",
    "\n",
    "print('%.1f%%' % prcnt)"
   ]
  },
  {
   "cell_type": "code",
   "execution_count": 10,
   "metadata": {},
   "outputs": [
    {
     "data": {
      "text/plain": [
       "Text(0, 0.5, '# of ## Subwords')"
      ]
     },
     "execution_count": 10,
     "metadata": {},
     "output_type": "execute_result"
    },
    {
     "data": {
      "image/png": "[encoded data removed]",
      "text/plain": [
       "<Figure size 720x360 with 1 Axes>"
      ]
     },
     "metadata": {},
     "output_type": "display_data"
    }
   ],
   "source": [
    "sns.countplot(subword_lengths)\n",
    "plt.title('Subword Token Lengths (w/o \"##\")')\n",
    "plt.xlabel('Subword Length')\n",
    "plt.ylabel('# of ## Subwords')"
   ]
  },
  {
   "cell_type": "code",
   "execution_count": 14,
   "metadata": {},
   "outputs": [],
   "source": [
    "# bert tokens\n",
    "with open('vocabulary.txt') as f:\n",
    "    bert_tokens = [line.rstrip() for line in f]"
   ]
  },
  {
   "cell_type": "code",
   "execution_count": 20,
   "metadata": {},
   "outputs": [],
   "source": [
    "fin_bert_tokens = []\n",
    "for token in tokenizer.vocab.keys():\n",
    "        fin_bert_tokens.append(token)"
   ]
  },
  {
   "cell_type": "markdown",
   "metadata": {},
   "source": [
    "Finding the unique tokens from finBert"
   ]
  },
  {
   "cell_type": "code",
   "execution_count": 22,
   "metadata": {},
   "outputs": [],
   "source": [
    "def Diff(list1, list2): \n",
    "    return (list(list(set(list1)-set(list2)) + list(set(list2)-set(list1)))) \n",
    "unique_tokens = Diff(fin_bert_tokens, bert_tokens)"
   ]
  },
  {
   "cell_type": "code",
   "execution_count": 23,
   "metadata": {},
   "outputs": [
    {
     "name": "stdout",
     "output_type": "stream",
     "text": [
      "Number of unique tokens in finBert which are not found in bert vocabulary: 22336\n"
     ]
    }
   ],
   "source": [
    "print('Number of unique tokens in finBert which are not found in bert vocabulary:', len(unique_tokens))"
   ]
  },
  {
   "cell_type": "markdown",
   "metadata": {},
   "source": []
  },
  {
   "cell_type": "markdown",
   "metadata": {},
   "source": []
  },
  {
   "cell_type": "code",
   "execution_count": null,
   "metadata": {},
   "outputs": [],
   "source": []
  }
 ],
 "metadata": {
  "kernelspec": {
   "display_name": "torch_env",
   "language": "python",
   "name": "torch_env"
  },
  "language_info": {
   "codemirror_mode": {
    "name": "ipython",
    "version": 3
   },
   "file_extension": ".py",
   "mimetype": "text/x-python",
   "name": "python",
   "nbconvert_exporter": "python",
   "pygments_lexer": "ipython3",
   "version": "3.6.10"
  }
 },
 "nbformat": 4,
 "nbformat_minor": 2
}
